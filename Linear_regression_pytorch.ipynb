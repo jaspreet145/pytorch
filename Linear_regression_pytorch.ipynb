{
  "nbformat": 4,
  "nbformat_minor": 0,
  "metadata": {
    "colab": {
      "name": "Linear regression pytorch.ipynb",
      "version": "0.3.2",
      "provenance": [],
      "include_colab_link": true
    },
    "kernelspec": {
      "name": "python3",
      "display_name": "Python 3"
    }
  },
  "cells": [
    {
      "cell_type": "markdown",
      "metadata": {
        "id": "view-in-github",
        "colab_type": "text"
      },
      "source": [
        "<a href=\"https://colab.research.google.com/github/jaspreet145/pytorch/blob/master/Linear_regression_pytorch.ipynb\" target=\"_parent\"><img src=\"https://colab.research.google.com/assets/colab-badge.svg\" alt=\"Open In Colab\"/></a>"
      ]
    },
    {
      "cell_type": "code",
      "metadata": {
        "id": "zO6uhzQ0aVPf",
        "colab_type": "code",
        "outputId": "d77b24a4-be63-4728-d4b4-5366105840f8",
        "colab": {
          "base_uri": "https://localhost:8080/",
          "height": 33
        }
      },
      "source": [
        "import torch\n",
        "print(torch.__version__)"
      ],
      "execution_count": 1,
      "outputs": [
        {
          "output_type": "stream",
          "text": [
            "1.1.0\n"
          ],
          "name": "stdout"
        }
      ]
    },
    {
      "cell_type": "code",
      "metadata": {
        "id": "STHeOhpsakVS",
        "colab_type": "code",
        "colab": {}
      },
      "source": [
        "\n",
        "class lr(torch.nn.Module):\n",
        "  \n",
        "  def __init__(self,input_size,output_size):\n",
        "    super().__init__()\n",
        "    self.inp = input_size\n",
        "    self.out = output_size\n",
        "    self.model = torch.nn.Linear(input_size,output_size)\n",
        "  def forward(self,x):\n",
        "    return self.model(x)"
      ],
      "execution_count": 0,
      "outputs": []
    },
    {
      "cell_type": "code",
      "metadata": {
        "id": "EphhW5NEc666",
        "colab_type": "code",
        "outputId": "a081ce5e-0a1c-4112-fd32-331a2f419bb1",
        "colab": {
          "base_uri": "https://localhost:8080/",
          "height": 269
        }
      },
      "source": [
        "import numpy as np\n",
        "import matplotlib.pyplot as plt\n",
        "%matplotlib inline\n",
        "torch.manual_seed(1)\n",
        "x = torch.randn(100,1)\n",
        "y = x + torch.randn(100,1)\n",
        "plt.plot(x.numpy(),y.numpy(),'o')\n",
        "plt.show()"
      ],
      "execution_count": 3,
      "outputs": [
        {
          "output_type": "display_data",
          "data": {
            "image/png": "[encoded data removed]",
            "text/plain": [
              "<Figure size 432x288 with 1 Axes>"
            ]
          },
          "metadata": {
            "tags": []
          }
        }
      ]
    },
    {
      "cell_type": "code",
      "metadata": {
        "id": "Yl_Fcxrcd-BL",
        "colab_type": "code",
        "colab": {}
      },
      "source": [
        "model = lr(1,1)"
      ],
      "execution_count": 0,
      "outputs": []
    },
    {
      "cell_type": "code",
      "metadata": {
        "id": "JB_c78dnfZLs",
        "colab_type": "code",
        "colab": {}
      },
      "source": [
        "def get_para():\n",
        "  w1 , b1 = model.parameters()\n",
        "  return (w1[0][0].item(),b1[0].item())"
      ],
      "execution_count": 0,
      "outputs": []
    },
    {
      "cell_type": "code",
      "metadata": {
        "id": "X4LNlH66ed8H",
        "colab_type": "code",
        "outputId": "e2ea825f-7404-4c48-805e-c1639ae9b387",
        "colab": {
          "base_uri": "https://localhost:8080/",
          "height": 286
        }
      },
      "source": [
        "def plot_fit():\n",
        "  w1 , b1 = get_para()\n",
        "  x1 = torch.tensor([-3,3])\n",
        "  y1 = w1*x1 + b1\n",
        "  plt.scatter(x.numpy(),y.numpy())\n",
        "  plt.plot(x1.numpy(),y1.numpy())\n",
        "  plt.show()\n",
        "  plt.clf()\n",
        "plot_fit()"
      ],
      "execution_count": 6,
      "outputs": [
        {
          "output_type": "display_data",
          "data": {
            "image/png": "[encoded data removed]",
            "text/plain": [
              "<Figure size 432x288 with 1 Axes>"
            ]
          },
          "metadata": {
            "tags": []
          }
        },
        {
          "output_type": "display_data",
          "data": {
            "text/plain": [
              "<Figure size 432x288 with 0 Axes>"
            ]
          },
          "metadata": {
            "tags": []
          }
        }
      ]
    },
    {
      "cell_type": "code",
      "metadata": {
        "id": "2JLrjskseg7s",
        "colab_type": "code",
        "colab": {}
      },
      "source": [
        "criterion = torch.nn.MSELoss()\n",
        "optimizer = torch.optim.SGD(model.parameters() , lr = 0.01)"
      ],
      "execution_count": 0,
      "outputs": []
    },
    {
      "cell_type": "code",
      "metadata": {
        "id": "E-M4gLGNhMZs",
        "colab_type": "code",
        "outputId": "46530007-4fe1-4cee-adb4-3fc0c9efa22f",
        "colab": {
          "base_uri": "https://localhost:8080/",
          "height": 853
        }
      },
      "source": [
        "epoch  = 50\n",
        "import time\n",
        "from IPython.display import clear_output\n",
        "for _ in range(epoch):\n",
        "  y_pred = model(x)\n",
        "  loss = criterion(y_pred,y)\n",
        "  print(\"loss :{} epoch:{}\".format(loss,_))\n",
        "  optimizer.zero_grad()\n",
        "  loss.backward()\n",
        "  optimizer.step()\n",
        "  \n",
        "  "
      ],
      "execution_count": 8,
      "outputs": [
        {
          "output_type": "stream",
          "text": [
            "loss :1.1886200904846191 epoch:0\n",
            "loss :1.1860820055007935 epoch:1\n",
            "loss :1.183625340461731 epoch:2\n",
            "loss :1.181247591972351 epoch:3\n",
            "loss :1.1789461374282837 epoch:4\n",
            "loss :1.1767184734344482 epoch:5\n",
            "loss :1.1745623350143433 epoch:6\n",
            "loss :1.1724753379821777 epoch:7\n",
            "loss :1.1704550981521606 epoch:8\n",
            "loss :1.1684997081756592 epoch:9\n",
            "loss :1.1666069030761719 epoch:10\n",
            "loss :1.164774775505066 epoch:11\n",
            "loss :1.1630011796951294 epoch:12\n",
            "loss :1.1612844467163086 epoch:13\n",
            "loss :1.1596226692199707 epoch:14\n",
            "loss :1.158013939857483 epoch:15\n",
            "loss :1.156456708908081 epoch:16\n",
            "loss :1.1549491882324219 epoch:17\n",
            "loss :1.1534899473190308 epoch:18\n",
            "loss :1.1520771980285645 epoch:19\n",
            "loss :1.1507097482681274 epoch:20\n",
            "loss :1.1493858098983765 epoch:21\n",
            "loss :1.148104190826416 epoch:22\n",
            "loss :1.1468634605407715 epoch:23\n",
            "loss :1.1456623077392578 epoch:24\n",
            "loss :1.1444995403289795 epoch:25\n",
            "loss :1.143373727798462 epoch:26\n",
            "loss :1.1422839164733887 epoch:27\n",
            "loss :1.1412289142608643 epoch:28\n",
            "loss :1.1402074098587036 epoch:29\n",
            "loss :1.1392184495925903 epoch:30\n",
            "loss :1.1382609605789185 epoch:31\n",
            "loss :1.1373341083526611 epoch:32\n",
            "loss :1.1364367008209229 epoch:33\n",
            "loss :1.1355677843093872 epoch:34\n",
            "loss :1.134726643562317 epoch:35\n",
            "loss :1.133912205696106 epoch:36\n",
            "loss :1.1331236362457275 epoch:37\n",
            "loss :1.1323602199554443 epoch:38\n",
            "loss :1.13162100315094 epoch:39\n",
            "loss :1.1309053897857666 epoch:40\n",
            "loss :1.1302125453948975 epoch:41\n",
            "loss :1.1295416355133057 epoch:42\n",
            "loss :1.1288920640945435 epoch:43\n",
            "loss :1.1282631158828735 epoch:44\n",
            "loss :1.1276541948318481 epoch:45\n",
            "loss :1.12706458568573 epoch:46\n",
            "loss :1.1264936923980713 epoch:47\n",
            "loss :1.1259409189224243 epoch:48\n",
            "loss :1.1254056692123413 epoch:49\n"
          ],
          "name": "stdout"
        }
      ]
    },
    {
      "cell_type": "code",
      "metadata": {
        "id": "jJtgDk1ejJA3",
        "colab_type": "code",
        "outputId": "f397eea4-0690-4a8d-9a23-4b750e492b86",
        "colab": {
          "base_uri": "https://localhost:8080/",
          "height": 286
        }
      },
      "source": [
        "plot_fit()"
      ],
      "execution_count": 9,
      "outputs": [
        {
          "output_type": "display_data",
          "data": {
            "image/png": "[encoded data removed]",
            "text/plain": [
              "<Figure size 432x288 with 1 Axes>"
            ]
          },
          "metadata": {
            "tags": []
          }
        },
        {
          "output_type": "display_data",
          "data": {
            "text/plain": [
              "<Figure size 432x288 with 0 Axes>"
            ]
          },
          "metadata": {
            "tags": []
          }
        }
      ]
    },
    {
      "cell_type": "code",
      "metadata": {
        "id": "58gUKOL8mLDS",
        "colab_type": "code",
        "colab": {}
      },
      "source": [
        ""
      ],
      "execution_count": 0,
      "outputs": []
    }
  ]
}