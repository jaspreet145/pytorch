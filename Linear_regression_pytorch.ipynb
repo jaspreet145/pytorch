{
  "nbformat": 4,
  "nbformat_minor": 0,
  "metadata": {
    "colab": {
      "name": "Linear regression pytorch.ipynb",
      "version": "0.3.2",
      "provenance": [],
      "include_colab_link": true
    },
    "kernelspec": {
      "name": "python3",
      "display_name": "Python 3"
    }
  },
  "cells": [
    {
      "cell_type": "markdown",
      "metadata": {
        "id": "view-in-github",
        "colab_type": "text"
      },
      "source": [
        "<a href=\"https://colab.research.google.com/github/jaspreet145/pytorch/blob/master/Linear_regression_pytorch.ipynb\" target=\"_parent\"><img src=\"https://colab.research.google.com/assets/colab-badge.svg\" alt=\"Open In Colab\"/></a>"
      ]
    },
    {
      "cell_type": "code",
      "metadata": {
        "id": "zO6uhzQ0aVPf",
        "colab_type": "code",
        "colab": {
          "base_uri": "https://localhost:8080/",
          "height": 33
        },
        "outputId": "87346a70-0c4f-4fdb-fe7b-0ef114fc36e4"
      },
      "source": [
        "import torch\n",
        "print(torch.__version__)"
      ],
      "execution_count": 1,
      "outputs": [
        {
          "output_type": "stream",
          "text": [
            "1.1.0\n"
          ],
          "name": "stdout"
        }
      ]
    },
    {
      "cell_type": "code",
      "metadata": {
        "id": "STHeOhpsakVS",
        "colab_type": "code",
        "colab": {}
      },
      "source": [
        "\n",
        "class lr(torch.nn.Module):\n",
        "  \n",
        "  def __init__(self,input_size,output_size):\n",
        "    super().__init__()\n",
        "    self.inp = input_size\n",
        "    self.out = output_size\n",
        "    self.model = torch.nn.Linear(input_size,output_size)\n",
        "  def forward(self,x):\n",
        "    return self.model(x)"
      ],
      "execution_count": 0,
      "outputs": []
    },
    {
      "cell_type": "code",
      "metadata": {
        "id": "EphhW5NEc666",
        "colab_type": "code",
        "colab": {
          "base_uri": "https://localhost:8080/",
          "height": 269
        },
        "outputId": "4f6d4980-df5b-47e4-c16c-712b0d2a6d95"
      },
      "source": [
        "import numpy as np\n",
        "import matplotlib.pyplot as plt\n",
        "%matplotlib inline\n",
        "x = torch.randn(100,1)\n",
        "y = x + torch.randn(100,1)\n",
        "plt.plot(x.numpy(),y.numpy(),'o')\n",
        "plt.show()"
      ],
      "execution_count": 3,
      "outputs": [
        {
          "output_type": "display_data",
          "data": {
            "image/png": "[encoded data removed]",
            "text/plain": [
              "<Figure size 432x288 with 1 Axes>"
            ]
          },
          "metadata": {
            "tags": []
          }
        }
      ]
    },
    {
      "cell_type": "code",
      "metadata": {
        "id": "Yl_Fcxrcd-BL",
        "colab_type": "code",
        "colab": {}
      },
      "source": [
        "model = lr(1,1)"
      ],
      "execution_count": 0,
      "outputs": []
    },
    {
      "cell_type": "code",
      "metadata": {
        "id": "JB_c78dnfZLs",
        "colab_type": "code",
        "colab": {}
      },
      "source": [
        "def get_para():\n",
        "  w1 , b1 = model.parameters()\n",
        "  return (w1[0][0].item(),b1[0].item())"
      ],
      "execution_count": 0,
      "outputs": []
    },
    {
      "cell_type": "code",
      "metadata": {
        "id": "X4LNlH66ed8H",
        "colab_type": "code",
        "colab": {
          "base_uri": "https://localhost:8080/",
          "height": 269
        },
        "outputId": "9880a49c-86ca-4b07-a000-05e3d0631c93"
      },
      "source": [
        "def plot_fit():\n",
        "  w1 , b1 = get_para()\n",
        "  x1 = torch.tensor([-3,3])\n",
        "  y1 = w1*x1 + b1\n",
        "  plt.scatter(x.numpy(),y.numpy())\n",
        "  plt.plot(x1.numpy(),y1.numpy())\n",
        "  plt.show()\n",
        "plot_fit()"
      ],
      "execution_count": 6,
      "outputs": [
        {
          "output_type": "display_data",
          "data": {
            "image/png": "[encoded data removed]",
            "text/plain": [
              "<Figure size 432x288 with 1 Axes>"
            ]
          },
          "metadata": {
            "tags": []
          }
        }
      ]
    },
    {
      "cell_type": "code",
      "metadata": {
        "id": "2JLrjskseg7s",
        "colab_type": "code",
        "colab": {}
      },
      "source": [
        "criterion = torch.nn.MSELoss()\n",
        "optimizer = torch.optim.SGD(model.parameters() , lr = 0.1)"
      ],
      "execution_count": 0,
      "outputs": []
    },
    {
      "cell_type": "code",
      "metadata": {
        "id": "E-M4gLGNhMZs",
        "colab_type": "code",
        "colab": {
          "base_uri": "https://localhost:8080/",
          "height": 1000
        },
        "outputId": "7b305371-ee18-4adb-cd0f-be3f5979d58b"
      },
      "source": [
        "epoch  = 100\n",
        "import time\n",
        "from IPython.display import clear_output\n",
        "for _ in range(epoch):\n",
        "  y_pred = model(x)\n",
        "  loss = criterion(y_pred,y)\n",
        "  print(\"loss :{} epoch:{}\".format(loss,_))\n",
        "  optimizer.zero_grad()\n",
        "  loss.backward()\n",
        "  optimizer.step()\n",
        "  \n",
        "  "
      ],
      "execution_count": 12,
      "outputs": [
        {
          "output_type": "stream",
          "text": [
            "loss :0.9905757308006287 epoch:0\n",
            "loss :0.9782459735870361 epoch:1\n",
            "loss :0.9710649251937866 epoch:2\n",
            "loss :0.9668802618980408 epoch:3\n",
            "loss :0.9644400477409363 epoch:4\n",
            "loss :0.9630159735679626 epoch:5\n",
            "loss :0.9621843099594116 epoch:6\n",
            "loss :0.961698055267334 epoch:7\n",
            "loss :0.9614135026931763 epoch:8\n",
            "loss :0.9612467288970947 epoch:9\n",
            "loss :0.9611489176750183 epoch:10\n",
            "loss :0.9610913991928101 epoch:11\n",
            "loss :0.9610575437545776 epoch:12\n",
            "loss :0.9610375761985779 epoch:13\n",
            "loss :0.9610257148742676 epoch:14\n",
            "loss :0.9610187411308289 epoch:15\n",
            "loss :0.9610145688056946 epoch:16\n",
            "loss :0.9610121250152588 epoch:17\n",
            "loss :0.9610106348991394 epoch:18\n",
            "loss :0.9610097408294678 epoch:19\n",
            "loss :0.9610092043876648 epoch:20\n",
            "loss :0.9610089063644409 epoch:21\n",
            "loss :0.9610086679458618 epoch:22\n",
            "loss :0.9610085487365723 epoch:23\n",
            "loss :0.9610084891319275 epoch:24\n",
            "loss :0.9610084891319275 epoch:25\n",
            "loss :0.9610084295272827 epoch:26\n",
            "loss :0.9610084295272827 epoch:27\n",
            "loss :0.9610084295272827 epoch:28\n",
            "loss :0.9610084295272827 epoch:29\n",
            "loss :0.9610083699226379 epoch:30\n",
            "loss :0.9610083699226379 epoch:31\n",
            "loss :0.9610083699226379 epoch:32\n",
            "loss :0.9610083699226379 epoch:33\n",
            "loss :0.9610083699226379 epoch:34\n",
            "loss :0.9610083699226379 epoch:35\n",
            "loss :0.9610083699226379 epoch:36\n",
            "loss :0.9610083699226379 epoch:37\n",
            "loss :0.9610083699226379 epoch:38\n",
            "loss :0.9610083699226379 epoch:39\n",
            "loss :0.9610083699226379 epoch:40\n",
            "loss :0.9610083699226379 epoch:41\n",
            "loss :0.9610083699226379 epoch:42\n",
            "loss :0.9610083699226379 epoch:43\n",
            "loss :0.9610083699226379 epoch:44\n",
            "loss :0.9610083699226379 epoch:45\n",
            "loss :0.9610083699226379 epoch:46\n",
            "loss :0.9610083699226379 epoch:47\n",
            "loss :0.9610083699226379 epoch:48\n",
            "loss :0.9610083699226379 epoch:49\n",
            "loss :0.9610083699226379 epoch:50\n",
            "loss :0.9610083699226379 epoch:51\n",
            "loss :0.9610083699226379 epoch:52\n",
            "loss :0.9610083699226379 epoch:53\n",
            "loss :0.9610083699226379 epoch:54\n",
            "loss :0.9610083699226379 epoch:55\n",
            "loss :0.9610083699226379 epoch:56\n",
            "loss :0.9610083699226379 epoch:57\n",
            "loss :0.9610083699226379 epoch:58\n",
            "loss :0.9610083699226379 epoch:59\n",
            "loss :0.9610083699226379 epoch:60\n",
            "loss :0.9610083699226379 epoch:61\n",
            "loss :0.9610083699226379 epoch:62\n",
            "loss :0.9610083699226379 epoch:63\n",
            "loss :0.9610083699226379 epoch:64\n",
            "loss :0.9610083699226379 epoch:65\n",
            "loss :0.9610083699226379 epoch:66\n",
            "loss :0.9610083699226379 epoch:67\n",
            "loss :0.9610083699226379 epoch:68\n",
            "loss :0.9610083699226379 epoch:69\n",
            "loss :0.9610083699226379 epoch:70\n",
            "loss :0.9610083699226379 epoch:71\n",
            "loss :0.9610083699226379 epoch:72\n",
            "loss :0.9610083699226379 epoch:73\n",
            "loss :0.9610083699226379 epoch:74\n",
            "loss :0.9610083699226379 epoch:75\n",
            "loss :0.9610083699226379 epoch:76\n",
            "loss :0.9610083699226379 epoch:77\n",
            "loss :0.9610083699226379 epoch:78\n",
            "loss :0.9610083699226379 epoch:79\n",
            "loss :0.9610083699226379 epoch:80\n",
            "loss :0.9610083699226379 epoch:81\n",
            "loss :0.9610083699226379 epoch:82\n",
            "loss :0.9610083699226379 epoch:83\n",
            "loss :0.9610083699226379 epoch:84\n",
            "loss :0.9610083699226379 epoch:85\n",
            "loss :0.9610083699226379 epoch:86\n",
            "loss :0.9610083699226379 epoch:87\n",
            "loss :0.9610083699226379 epoch:88\n",
            "loss :0.9610083699226379 epoch:89\n",
            "loss :0.9610083699226379 epoch:90\n",
            "loss :0.9610083699226379 epoch:91\n",
            "loss :0.9610083699226379 epoch:92\n",
            "loss :0.9610083699226379 epoch:93\n",
            "loss :0.9610083699226379 epoch:94\n",
            "loss :0.9610083699226379 epoch:95\n",
            "loss :0.9610083699226379 epoch:96\n",
            "loss :0.9610083699226379 epoch:97\n",
            "loss :0.9610083699226379 epoch:98\n",
            "loss :0.9610083699226379 epoch:99\n"
          ],
          "name": "stdout"
        }
      ]
    },
    {
      "cell_type": "code",
      "metadata": {
        "id": "jJtgDk1ejJA3",
        "colab_type": "code",
        "colab": {
          "base_uri": "https://localhost:8080/",
          "height": 269
        },
        "outputId": "1167dc87-1d86-4ab9-a4df-b4296ef04ed3"
      },
      "source": [
        "plot_fit()"
      ],
      "execution_count": 13,
      "outputs": [
        {
          "output_type": "display_data",
          "data": {
            "image/png": "[encoded data removed]",
            "text/plain": [
              "<Figure size 432x288 with 1 Axes>"
            ]
          },
          "metadata": {
            "tags": []
          }
        }
      ]
    },
    {
      "cell_type": "code",
      "metadata": {
        "id": "58gUKOL8mLDS",
        "colab_type": "code",
        "colab": {}
      },
      "source": [
        ""
      ],
      "execution_count": 0,
      "outputs": []
    }
  ]
}